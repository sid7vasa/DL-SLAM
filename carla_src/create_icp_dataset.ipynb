{
 "cells": [
  {
   "cell_type": "code",
   "execution_count": null,
   "metadata": {},
   "outputs": [],
   "source": [
    "import os\n",
    "import pandas as pd\n",
    "import numpy as np\n",
    "from plyfile import PlyData\n",
    "\n",
    "# Define the path to the data directory\n",
    "data_dir = \"/home/sid/scans/DATA_2023-04-16_23-36-03\"\n",
    "\n",
    "# Load the GPS data into a pandas dataframe\n",
    "gps_files = os.listdir(os.path.join(data_dir, \"gps\"))\n",
    "gps_data = []\n",
    "for file in gps_files:\n",
    "    if file.endswith(\".npy\"):\n",
    "        file_path = os.path.join(data_dir, \"gps\", file)\n",
    "        gps = np.load(file_path, allow_pickle=True).item()\n",
    "        location = gps['location']\n",
    "        rotation = gps['rotation']\n",
    "        gps_data.append([file[:-4], location['x'], location['y'], location['z'], rotation['pitch'], rotation['yaw'], rotation['roll']])\n",
    "gps_df = pd.DataFrame(gps_data, columns=['file', 'x', 'y', 'z', 'pitch', 'yaw', 'roll'])\n",
    "\n",
    "# Load the LiDAR data into a pandas dataframe\n",
    "lidar_files = os.listdir(os.path.join(data_dir, \"lidar\"))\n",
    "lidar_data = []\n",
    "for file in lidar_files:\n",
    "    if file.endswith(\".ply\"):\n",
    "        file_path = os.path.join(data_dir, \"lidar\", file)\n",
    "        ply_data = PlyData.read(file_path)\n",
    "        lidar_data.append([file[:-4], ply_data['vertex']['x'], ply_data['vertex']['y'], ply_data['vertex']['z']])\n",
    "lidar_df = pd.DataFrame(lidar_data, columns=['file', 'x', 'y', 'z'])\n",
    "\n",
    "# Merge the GPS and LiDAR dataframes on the 'file' column\n",
    "merged_df = pd.merge(gps_df, lidar_df, on='file')\n",
    "\n",
    "# Display the merged dataframe\n",
    "print(merged_df.head())"
   ]
  },
  {
   "cell_type": "code",
   "execution_count": null,
   "metadata": {},
   "outputs": [],
   "source": []
  }
 ],
 "metadata": {
  "kernelspec": {
   "display_name": "base",
   "language": "python",
   "name": "python3"
  },
  "language_info": {
   "name": "python",
   "version": "3.7.16"
  },
  "orig_nbformat": 4
 },
 "nbformat": 4,
 "nbformat_minor": 2
}
